{
 "cells": [
  {
   "cell_type": "code",
   "execution_count": 2,
   "id": "2b544dbd",
   "metadata": {},
   "outputs": [],
   "source": [
    "import pulp"
   ]
  },
  {
   "cell_type": "code",
   "execution_count": null,
   "id": "d546e848",
   "metadata": {},
   "outputs": [],
   "source": [
    "nums = range(1, 6)"
   ]
  },
  {
   "cell_type": "code",
   "execution_count": null,
   "id": "800f04c2",
   "metadata": {},
   "outputs": [],
   "source": [
    "problem = pulp.LpProblem('Problem', pulp.LpMaximize)"
   ]
  },
  {
   "cell_type": "markdown",
   "id": "c3b42d3e",
   "metadata": {},
   "source": [
    "$ \\max \\sum_{i = 1}^{5} \\sum_{j = 1}^{5} x_{i, j} $"
   ]
  },
  {
   "cell_type": "code",
   "execution_count": null,
   "id": "9bbd3383",
   "metadata": {},
   "outputs": [],
   "source": [
    "x = pulp.LpVariable.dicts('x', [(row, col) for row in nums for col in nums], lowBound = 0, upBound = 9, cat = 'Integer') # declare decision variables\n",
    "problem += (pulp.lpSum([x[(row, col)] for row in nums for col in nums])) # declare objective function"
   ]
  },
  {
   "cell_type": "code",
   "execution_count": null,
   "id": "1fd4c85e",
   "metadata": {},
   "outputs": [],
   "source": [
    "line = [\"div2\", \"div3\", \"div4\", \"div5\", \"div6_2\", \"div6_3\", \"div7\", \"div8\", \"div9\"]\n",
    "max = [4, 14, 24, 1, 4, 14, 99999//7, 124, 5]"
   ]
  },
  {
   "cell_type": "code",
   "execution_count": null,
   "id": "474dc465",
   "metadata": {},
   "outputs": [],
   "source": [
    "for index in range(len(line)):\n",
    "    vars()[line[index]] = pulp.LpVariable(line[index], lowBound = 0, upBound = max[index], cat = 'Integer')"
   ]
  },
  {
   "cell_type": "markdown",
   "id": "95d071c7",
   "metadata": {},
   "source": [
    "$\\\\ 0 \\equiv {10000 * x_{1,1} + 1000 * x_{1,2} + 100 * x_{1,3} + 10 * x_{1,4} + 1 * x_{1,5}} \\mod 1 $ \n",
    "$ \\\\ \\implies True $"
   ]
  },
  {
   "cell_type": "code",
   "execution_count": null,
   "id": "9e11e2f1",
   "metadata": {},
   "outputs": [],
   "source": [
    "# No constraint needed for row 1"
   ]
  },
  {
   "cell_type": "markdown",
   "id": "dde1d8ec",
   "metadata": {},
   "source": [
    "$0 \\equiv {10000 * x_{2,1} + 1000 * x_{2,2} + 100 * x_{2,3} + 10 * x_{2,4} + 1 * x_{2,5}} \\mod 2$\n",
    "$\\\\ \\implies 0 \\equiv x_{2,5} \\mod 2$\n",
    "$\\\\ \\implies x_{2,5} - 2 * y_2 = 0$"
   ]
  },
  {
   "cell_type": "code",
   "execution_count": null,
   "id": "70898bb8",
   "metadata": {},
   "outputs": [],
   "source": [
    "problem += x[(2, 5)] - 2 * div2 == 0 "
   ]
  },
  {
   "cell_type": "markdown",
   "id": "f8302e28",
   "metadata": {},
   "source": [
    "$0 \\equiv {10000 * x_{3,1} + 1000 * x_{3,2} + 100 * x_{3,3} + 10 * x_{3,4} + 1 * x_{3,5}} \\mod 3$\n",
    "$\\\\ \\implies 0 \\equiv {x_{3,1} + x_{3,2} + x_{3,3} + x_{3,4} + x_{3,5}} \\mod 3$\n",
    "$\\\\ \\implies x_{3,1} + x_{3,2} + x_{3,3} + x_{3,4} + x_{3,5} - 3 * y_3 = 0$"
   ]
  },
  {
   "cell_type": "code",
   "execution_count": null,
   "id": "092b9cf6",
   "metadata": {},
   "outputs": [],
   "source": [
    "problem += pulp.lpSum([x[(3, col)] for col in nums]) - 3 * div3 == 0"
   ]
  },
  {
   "cell_type": "markdown",
   "id": "617421a7",
   "metadata": {},
   "source": [
    "$0 \\equiv {10000 * x_{4,1} + 1000 * x_{4,2} + 100 * x_{4,3} + 10 * x_{4,4} + 1 * x_{4,5}} \\mod 4$\n",
    "$\\\\ \\implies 0 \\equiv {100 * x_{4,3} + 10 * x_{4,4} + 1 * x_{4,5}} \\mod 4$\n",
    "$\\\\ \\implies 100 * x_{4,3} + 10 * x_{4,4} + 1 * x_{4,5} - 4 * y_4 = 0$"
   ]
  },
  {
   "cell_type": "code",
   "execution_count": null,
   "id": "c4d2c5cb",
   "metadata": {},
   "outputs": [],
   "source": [
    "problem += pulp.lpSum([10 ** (5 - col) * x[(4, col)] for col in range(4, 6)]) - 4 * div4 == 0"
   ]
  },
  {
   "cell_type": "markdown",
   "id": "d28710f6",
   "metadata": {},
   "source": [
    "$ 0 \\equiv {10000 * x_{5,1} + 1000 * x_{5,2} + 100 * x_{5,3} + 10 * x_{5,4} + 1 * x_{5,5}} \\mod 5$\n",
    "$\\\\ \\implies 0 \\equiv x_{5,5} \\mod 5$\n",
    "$\\\\ \\implies x_{5,5} - 5 * y_5 = 0$"
   ]
  },
  {
   "cell_type": "code",
   "execution_count": null,
   "id": "a7387ac9",
   "metadata": {},
   "outputs": [],
   "source": [
    "problem += x[(5, 5)] - 5 * div5 == 0"
   ]
  },
  {
   "cell_type": "markdown",
   "id": "d4c36ecb",
   "metadata": {},
   "source": [
    "$ 0 \\equiv {10000 * x_{1,1} + 1000 * x_{2,1} + 100 * x_{3,1} + 10 * x_{4,1} + 1 * x_{5,1}} \\mod 6$\n",
    "$\\\\ \\implies 0 \\equiv {x_{1,1} + x_{2,1} + x_{3,1} + x_{4,1} + x_{5,1}} \\mod 3, 0 \\equiv x_{5,1} \\mod 2 $\n",
    "$\\\\ \\implies x_{1,1} + x_{2,1} + x_{3,1} + x_{4,1} + x_{5,1} - 3 * y_{6, 3} = 0, x_{5,1} - 2 * y_{6, 2} = 0$\n"
   ]
  },
  {
   "cell_type": "code",
   "execution_count": null,
   "id": "3e9a874a",
   "metadata": {},
   "outputs": [],
   "source": [
    "problem += x[(5, 1)] - 2 * div6_2 == 0\n",
    "problem += pulp.lpSum([x[(row, 1)] for row in nums]) - 3 * div6_3 == 0"
   ]
  },
  {
   "cell_type": "markdown",
   "id": "11e05a0f",
   "metadata": {},
   "source": [
    "$ 0 \\equiv {10000 * x_{1,2} + 1000 * x_{2,2} + 100 * x_{3,2} + 10 * x_{4,2} + 1 * x_{5,2}} \\mod 7$\n",
    "$ \\\\ \\implies 10000 * x_{1,2} + 1000 * x_{2,2} + 100 * x_{3,2} + 10 * x_{4,2} + 1 * x_{5,2} - 7 * y_7 = 0 $"
   ]
  },
  {
   "cell_type": "code",
   "execution_count": null,
   "id": "7e9e7b97",
   "metadata": {},
   "outputs": [],
   "source": [
    "problem += pulp.lpSum([10 ** (5 - row) * x[(row, 2)] for row in nums]) - 7 * div7 == 0"
   ]
  },
  {
   "cell_type": "markdown",
   "id": "c2dc7505",
   "metadata": {},
   "source": [
    "$ 0 \\equiv {10000 * x_{1,3} + 1000 * x_{2,3} + 100 * x_{3,3} + 10 * x_{4,3} + 1 * x_{5,3}} \\mod 8$\n",
    "$\\\\ \\implies 0 \\equiv {100 * x_{3,3} + 10 * x_{4,3} + 1 * x_{5,3}} \\mod 8 $\n",
    "$\\\\ \\implies 100 * x_{3,3} + 10 * x_{4,3} + 1 * x_{5,3} - 8 * y_8 = 0 $"
   ]
  },
  {
   "cell_type": "code",
   "execution_count": null,
   "id": "f03f5d0b",
   "metadata": {},
   "outputs": [],
   "source": [
    "problem += pulp.lpSum([10 ** (5 - row) * x[(row, 3)] for row in range(3, 6)]) - 8 * div8 == 0"
   ]
  },
  {
   "cell_type": "markdown",
   "id": "3892bdba",
   "metadata": {},
   "source": [
    "$ 0 \\equiv {10000 * x_{1,4} + 1000 * x_{2,4} + 100 * x_{3,4} + 10 * x_{4,4} + 1 * x_{5,4}} \\mod 9$\n",
    "$\\\\ \\implies 0 \\equiv {x_{1,4} + x_{2,4} + x_{3,4} + x_{4,4} + x_{5,4}} \\mod 9 $\n",
    "$\\\\ \\implies x_{1,4} + x_{2,4} + x_{3,4} + x_{4,4} + x_{5,4} - 9 * y_9 = 0 $"
   ]
  },
  {
   "cell_type": "code",
   "execution_count": null,
   "id": "74b75954",
   "metadata": {},
   "outputs": [],
   "source": [
    "problem += pulp.lpSum([x[(row, 4)] for row in nums]) - 9 * div9 == 0 #Column 4 Constraints\n"
   ]
  },
  {
   "cell_type": "markdown",
   "id": "ce63a432",
   "metadata": {},
   "source": [
    "$ 0 \\equiv {10000 * x_{1,5} + 1000 * x_{2,5} + 100 * x_{3,5} + 10 * x_{4,5} + 1 * x_{5,5}} \\mod 10 $\n",
    "$\\\\ \\implies 0 \\equiv x_{5,5} \\mod 10 $\n",
    "$\\\\ \\implies x_{5,5} = 0$"
   ]
  },
  {
   "cell_type": "code",
   "execution_count": null,
   "id": "867ec5ba",
   "metadata": {},
   "outputs": [],
   "source": [
    "problem += x[(5, 5)] == 0"
   ]
  },
  {
   "cell_type": "code",
   "execution_count": null,
   "id": "085aab06",
   "metadata": {},
   "outputs": [],
   "source": [
    "#Solve LP\n",
    "problem.solve()\n",
    "solution = [[0 for i in range(5)] for j in range(5)]"
   ]
  },
  {
   "cell_type": "code",
   "execution_count": null,
   "id": "4ea09096",
   "metadata": {},
   "outputs": [],
   "source": [
    "for row in nums:\n",
    "    for col in nums:\n",
    "        solution[row - 1][col - 1] = int(x[(row, col)].varValue)\n",
    "\n",
    "for i in range(5):\n",
    "    print(solution[i])"
   ]
  }
 ],
 "metadata": {
  "kernelspec": {
   "display_name": "Python 3 (ipykernel)",
   "language": "python",
   "name": "python3"
  },
  "language_info": {
   "codemirror_mode": {
    "name": "ipython",
    "version": 3
   },
   "file_extension": ".py",
   "mimetype": "text/x-python",
   "name": "python",
   "nbconvert_exporter": "python",
   "pygments_lexer": "ipython3",
   "version": "3.9.7"
  }
 },
 "nbformat": 4,
 "nbformat_minor": 5
}
