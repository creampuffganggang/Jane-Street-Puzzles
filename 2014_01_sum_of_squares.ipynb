{
 "cells": [
  {
   "cell_type": "code",
   "execution_count": 5,
   "id": "3c5fc7ea",
   "metadata": {},
   "outputs": [],
   "source": [
    "import pulp"
   ]
  },
  {
   "cell_type": "code",
   "execution_count": 6,
   "id": "b78cebd2",
   "metadata": {},
   "outputs": [],
   "source": [
    "nums = range(1, 6)"
   ]
  },
  {
   "cell_type": "code",
   "execution_count": 7,
   "id": "6d2da55d",
   "metadata": {},
   "outputs": [],
   "source": [
    "problem = pulp.LpProblem('Problem', pulp.LpMaximize)"
   ]
  },
  {
   "cell_type": "markdown",
   "id": "d9a349c0",
   "metadata": {},
   "source": [
    "$ \\max \\sum_{i = 1}^{5} \\sum_{j = 1}^{5} x_{i, j} $"
   ]
  },
  {
   "cell_type": "code",
   "execution_count": 8,
   "id": "814c388a",
   "metadata": {},
   "outputs": [],
   "source": [
    "x = pulp.LpVariable.dicts('x', [(row, col) for row in nums for col in nums], lowBound = 0, upBound = 9, cat = 'Integer') # declare decision variables\n",
    "problem += (pulp.lpSum([x[(row, col)] for row in nums for col in nums])) # declare objective function"
   ]
  },
  {
   "cell_type": "code",
   "execution_count": 9,
   "id": "5170009a",
   "metadata": {},
   "outputs": [],
   "source": [
    "line = [\"div2\", \"div3\", \"div4\", \"div5\", \"div6_2\", \"div6_3\", \"div7\", \"div8\", \"div9\"]\n",
    "max = [4, 14, 24, 1, 4, 14, 99999//7, 124, 5]"
   ]
  },
  {
   "cell_type": "code",
   "execution_count": 10,
   "id": "8a6d28d6",
   "metadata": {},
   "outputs": [],
   "source": [
    "for index in range(len(line)):\n",
    "    vars()[line[index]] = pulp.LpVariable(line[index], lowBound = 0, upBound = max[index], cat = 'Integer')"
   ]
  },
  {
   "cell_type": "markdown",
   "id": "19bd19b1",
   "metadata": {},
   "source": [
    "$\\\\ 0 \\equiv {10000 * x_{1,1} + 1000 * x_{1,2} + 100 * x_{1,3} + 10 * x_{1,4} + 1 * x_{1,5}} \\mod 1 $ \n",
    "$ \\\\ \\implies True $"
   ]
  },
  {
   "cell_type": "code",
   "execution_count": 11,
   "id": "d512cce6",
   "metadata": {},
   "outputs": [],
   "source": [
    "# No constraint needed for row 1"
   ]
  },
  {
   "cell_type": "markdown",
   "id": "8850f48d",
   "metadata": {},
   "source": [
    "$0 \\equiv {10000 * x_{2,1} + 1000 * x_{2,2} + 100 * x_{2,3} + 10 * x_{2,4} + 1 * x_{2,5}} \\mod 2$\n",
    "$\\\\ \\implies 0 \\equiv x_{2,5} \\mod 2$\n",
    "$\\\\ \\implies x_{2,5} - 2 * y_2 = 0$"
   ]
  },
  {
   "cell_type": "code",
   "execution_count": 12,
   "id": "1ad105ff",
   "metadata": {},
   "outputs": [],
   "source": [
    "problem += x[(2, 5)] - 2 * div2 == 0 "
   ]
  },
  {
   "cell_type": "markdown",
   "id": "af48883a",
   "metadata": {},
   "source": [
    "$0 \\equiv {10000 * x_{3,1} + 1000 * x_{3,2} + 100 * x_{3,3} + 10 * x_{3,4} + 1 * x_{3,5}} \\mod 3$\n",
    "$\\\\ \\implies 0 \\equiv {x_{3,1} + x_{3,2} + x_{3,3} + x_{3,4} + x_{3,5}} \\mod 3$\n",
    "$\\\\ \\implies x_{3,1} + x_{3,2} + x_{3,3} + x_{3,4} + x_{3,5} - 3 * y_3 = 0$"
   ]
  },
  {
   "cell_type": "code",
   "execution_count": 13,
   "id": "ce3717aa",
   "metadata": {},
   "outputs": [],
   "source": [
    "problem += pulp.lpSum([x[(3, col)] for col in nums]) - 3 * div3 == 0"
   ]
  },
  {
   "cell_type": "markdown",
   "id": "ad0e39ec",
   "metadata": {},
   "source": [
    "$0 \\equiv {10000 * x_{4,1} + 1000 * x_{4,2} + 100 * x_{4,3} + 10 * x_{4,4} + 1 * x_{4,5}} \\mod 4$\n",
    "$\\\\ \\implies 0 \\equiv {100 * x_{4,3} + 10 * x_{4,4} + 1 * x_{4,5}} \\mod 4$\n",
    "$\\\\ \\implies 100 * x_{4,3} + 10 * x_{4,4} + 1 * x_{4,5} - 4 * y_4 = 0$"
   ]
  },
  {
   "cell_type": "code",
   "execution_count": 14,
   "id": "50bc5e51",
   "metadata": {},
   "outputs": [],
   "source": [
    "problem += pulp.lpSum([10 ** (5 - col) * x[(4, col)] for col in range(4, 6)]) - 4 * div4 == 0"
   ]
  },
  {
   "cell_type": "markdown",
   "id": "6a62d30b",
   "metadata": {},
   "source": [
    "$ 0 \\equiv {10000 * x_{5,1} + 1000 * x_{5,2} + 100 * x_{5,3} + 10 * x_{5,4} + 1 * x_{5,5}} \\mod 5$\n",
    "$\\\\ \\implies 0 \\equiv x_{5,5} \\mod 5$\n",
    "$\\\\ \\implies x_{5,5} - 5 * y_5 = 0$"
   ]
  },
  {
   "cell_type": "code",
   "execution_count": 15,
   "id": "ade05ce1",
   "metadata": {},
   "outputs": [],
   "source": [
    "problem += x[(5, 5)] - 5 * div5 == 0"
   ]
  },
  {
   "cell_type": "markdown",
   "id": "2b43b8b0",
   "metadata": {},
   "source": [
    "$ 0 \\equiv {10000 * x_{1,1} + 1000 * x_{2,1} + 100 * x_{3,1} + 10 * x_{4,1} + 1 * x_{5,1}} \\mod 6$\n",
    "$\\\\ \\implies 0 \\equiv {x_{1,1} + x_{2,1} + x_{3,1} + x_{4,1} + x_{5,1}} \\mod 3, 0 \\equiv x_{5,1} \\mod 2 $\n",
    "$\\\\ \\implies x_{1,1} + x_{2,1} + x_{3,1} + x_{4,1} + x_{5,1} - 3 * y_{6, 3} = 0, x_{5,1} - 2 * y_{6, 2} = 0$\n"
   ]
  },
  {
   "cell_type": "code",
   "execution_count": 16,
   "id": "c120c23a",
   "metadata": {},
   "outputs": [],
   "source": [
    "problem += x[(5, 1)] - 2 * div6_2 == 0\n",
    "problem += pulp.lpSum([x[(row, 1)] for row in nums]) - 3 * div6_3 == 0"
   ]
  },
  {
   "cell_type": "markdown",
   "id": "09e32d18",
   "metadata": {},
   "source": [
    "$ 0 \\equiv {10000 * x_{1,2} + 1000 * x_{2,2} + 100 * x_{3,2} + 10 * x_{4,2} + 1 * x_{5,2}} \\mod 7$\n",
    "$ \\\\ \\implies 10000 * x_{1,2} + 1000 * x_{2,2} + 100 * x_{3,2} + 10 * x_{4,2} + 1 * x_{5,2} - 7 * y_7 = 0 $"
   ]
  },
  {
   "cell_type": "code",
   "execution_count": 17,
   "id": "639a62aa",
   "metadata": {},
   "outputs": [],
   "source": [
    "problem += pulp.lpSum([10 ** (5 - row) * x[(row, 2)] for row in nums]) - 7 * div7 == 0"
   ]
  },
  {
   "cell_type": "markdown",
   "id": "bd5ea3c5",
   "metadata": {},
   "source": [
    "$ 0 \\equiv {10000 * x_{1,3} + 1000 * x_{2,3} + 100 * x_{3,3} + 10 * x_{4,3} + 1 * x_{5,3}} \\mod 8$\n",
    "$\\\\ \\implies 0 \\equiv {100 * x_{3,3} + 10 * x_{4,3} + 1 * x_{5,3}} \\mod 8 $\n",
    "$\\\\ \\implies 100 * x_{3,3} + 10 * x_{4,3} + 1 * x_{5,3} - 8 * y_8 = 0 $"
   ]
  },
  {
   "cell_type": "code",
   "execution_count": 18,
   "id": "7f6d9bf8",
   "metadata": {},
   "outputs": [],
   "source": [
    "problem += pulp.lpSum([10 ** (5 - row) * x[(row, 3)] for row in range(3, 6)]) - 8 * div8 == 0"
   ]
  },
  {
   "cell_type": "markdown",
   "id": "f13efde0",
   "metadata": {},
   "source": [
    "$ 0 \\equiv {10000 * x_{1,4} + 1000 * x_{2,4} + 100 * x_{3,4} + 10 * x_{4,4} + 1 * x_{5,4}} \\mod 9$\n",
    "$\\\\ \\implies 0 \\equiv {x_{1,4} + x_{2,4} + x_{3,4} + x_{4,4} + x_{5,4}} \\mod 9 $\n",
    "$\\\\ \\implies x_{1,4} + x_{2,4} + x_{3,4} + x_{4,4} + x_{5,4} - 9 * y_9 = 0 $"
   ]
  },
  {
   "cell_type": "code",
   "execution_count": 19,
   "id": "1066925f",
   "metadata": {},
   "outputs": [],
   "source": [
    "problem += pulp.lpSum([x[(row, 4)] for row in nums]) - 9 * div9 == 0 #Column 4 Constraints"
   ]
  },
  {
   "cell_type": "markdown",
   "id": "fb6e4f2b",
   "metadata": {},
   "source": [
    "$ 0 \\equiv {10000 * x_{1,5} + 1000 * x_{2,5} + 100 * x_{3,5} + 10 * x_{4,5} + 1 * x_{5,5}} \\mod 10 $\n",
    "$\\\\ \\implies 0 \\equiv x_{5,5} \\mod 10 $\n",
    "$\\\\ \\implies x_{5,5} = 0$"
   ]
  },
  {
   "cell_type": "code",
   "execution_count": 20,
   "id": "65e882f0",
   "metadata": {},
   "outputs": [],
   "source": [
    "problem += x[(5, 5)] == 0"
   ]
  },
  {
   "cell_type": "code",
   "execution_count": 21,
   "id": "b33fea5c",
   "metadata": {},
   "outputs": [
    {
     "name": "stdout",
     "output_type": "stream",
     "text": [
      "Welcome to the CBC MILP Solver \n",
      "Version: 2.10.3 \n",
      "Build Date: Dec 15 2019 \n",
      "\n",
      "command line - /usr/local/lib/python3.9/site-packages/pulp/apis/../solverdir/cbc/osx/64/cbc /var/folders/vs/zddwg0m97p9dtc4cz025sspm0000gn/T/0593587c63b945d4907a113a175ed587-pulp.mps max timeMode elapsed branch printingOptions all solution /var/folders/vs/zddwg0m97p9dtc4cz025sspm0000gn/T/0593587c63b945d4907a113a175ed587-pulp.sol (default strategy 1)\n",
      "At line 2 NAME          MODEL\n",
      "At line 3 ROWS\n",
      "At line 15 COLUMNS\n",
      "At line 147 RHS\n",
      "At line 158 BOUNDS\n",
      "At line 193 ENDATA\n",
      "Problem MODEL has 10 rows, 34 columns and 38 elements\n",
      "Coin0008I MODEL read with 0 errors\n",
      "Option for timeMode changed from cpu to elapsed\n",
      "Continuous objective value is 210.7 - 0.00 seconds\n",
      "Cgl0004I processed model has 6 rows, 22 columns (22 integer (0 of which binary)) and 27 elements\n",
      "Cutoff increment increased from 1e-05 to 0.9999\n",
      "Cbc0012I Integer solution of -205 found by DiveCoefficient after 15 iterations and 0 nodes (0.00 seconds)\n",
      "Cbc0031I 5 added rows had average density of 6.6\n",
      "Cbc0013I At root node, 5 cuts changed objective from -210.7 to -205 in 6 passes\n",
      "Cbc0014I Cut generator 0 (Probing) - 0 row cuts average 0.0 elements, 0 column cuts (0 active)  in 0.000 seconds - new frequency is -100\n",
      "Cbc0014I Cut generator 1 (Gomory) - 13 row cuts average 6.5 elements, 0 column cuts (0 active)  in 0.000 seconds - new frequency is 1\n",
      "Cbc0014I Cut generator 2 (Knapsack) - 0 row cuts average 0.0 elements, 0 column cuts (0 active)  in 0.000 seconds - new frequency is -100\n",
      "Cbc0014I Cut generator 3 (Clique) - 0 row cuts average 0.0 elements, 0 column cuts (0 active)  in 0.000 seconds - new frequency is -100\n",
      "Cbc0014I Cut generator 4 (MixedIntegerRounding2) - 1 row cuts average 7.0 elements, 0 column cuts (0 active)  in 0.000 seconds - new frequency is -100\n",
      "Cbc0014I Cut generator 5 (FlowCover) - 0 row cuts average 0.0 elements, 0 column cuts (0 active)  in 0.000 seconds - new frequency is -100\n",
      "Cbc0014I Cut generator 6 (TwoMirCuts) - 23 row cuts average 6.6 elements, 0 column cuts (0 active)  in 0.000 seconds - new frequency is 1\n",
      "Cbc0001I Search completed - best objective -205, took 15 iterations and 0 nodes (0.00 seconds)\n",
      "Cbc0035I Maximum depth 0, 0 variables fixed on reduced cost\n",
      "Cuts at root node changed objective from -210.7 to -205\n",
      "Probing was tried 6 times and created 0 cuts of which 0 were active after adding rounds of cuts (0.000 seconds)\n",
      "Gomory was tried 6 times and created 13 cuts of which 0 were active after adding rounds of cuts (0.000 seconds)\n",
      "Knapsack was tried 6 times and created 0 cuts of which 0 were active after adding rounds of cuts (0.000 seconds)\n",
      "Clique was tried 6 times and created 0 cuts of which 0 were active after adding rounds of cuts (0.000 seconds)\n",
      "MixedIntegerRounding2 was tried 6 times and created 1 cuts of which 0 were active after adding rounds of cuts (0.000 seconds)\n",
      "FlowCover was tried 6 times and created 0 cuts of which 0 were active after adding rounds of cuts (0.000 seconds)\n",
      "TwoMirCuts was tried 6 times and created 23 cuts of which 0 were active after adding rounds of cuts (0.000 seconds)\n",
      "ZeroHalf was tried 1 times and created 0 cuts of which 0 were active after adding rounds of cuts (0.000 seconds)\n",
      "\n",
      "Result - Optimal solution found\n",
      "\n",
      "Objective value:                205.00000000\n",
      "Enumerated nodes:               0\n",
      "Total iterations:               15\n",
      "Time (CPU seconds):             0.00\n",
      "Time (Wallclock seconds):       0.00\n",
      "\n",
      "Option for printingOptions changed from normal to all\n",
      "Total time (CPU seconds):       0.00   (Wallclock seconds):       0.00\n",
      "\n"
     ]
    }
   ],
   "source": [
    "#Solve LP\n",
    "problem.solve()\n",
    "solution = [[0 for i in range(5)] for j in range(5)]"
   ]
  },
  {
   "cell_type": "code",
   "execution_count": 22,
   "id": "c531b6bc",
   "metadata": {},
   "outputs": [
    {
     "name": "stdout",
     "output_type": "stream",
     "text": [
      "[9, 8, 9, 9, 9]\n",
      "[9, 9, 9, 9, 8]\n",
      "[7, 9, 8, 9, 9]\n",
      "[9, 9, 8, 9, 6]\n",
      "[8, 9, 8, 9, 0]\n"
     ]
    }
   ],
   "source": [
    "for row in nums:\n",
    "    for col in nums:\n",
    "        solution[row - 1][col - 1] = int(x[(row, col)].varValue)\n",
    "\n",
    "for i in range(5):\n",
    "    print(solution[i])"
   ]
  }
 ],
 "metadata": {
  "kernelspec": {
   "display_name": "Python 3 (ipykernel)",
   "language": "python",
   "name": "python3"
  },
  "language_info": {
   "codemirror_mode": {
    "name": "ipython",
    "version": 3
   },
   "file_extension": ".py",
   "mimetype": "text/x-python",
   "name": "python",
   "nbconvert_exporter": "python",
   "pygments_lexer": "ipython3",
   "version": "3.9.7"
  }
 },
 "nbformat": 4,
 "nbformat_minor": 5
}
