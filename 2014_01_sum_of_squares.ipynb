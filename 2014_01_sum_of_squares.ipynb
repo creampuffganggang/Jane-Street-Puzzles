{
 "cells": [
  {
   "cell_type": "code",
   "execution_count": 2,
   "id": "cc71b049",
   "metadata": {},
   "outputs": [],
   "source": [
    "import pulp"
   ]
  },
  {
   "cell_type": "code",
   "execution_count": null,
   "id": "941726e0",
   "metadata": {},
   "outputs": [],
   "source": [
    "nums = range(1, 6)"
   ]
  },
  {
   "cell_type": "code",
   "execution_count": null,
   "id": "c1a573df",
   "metadata": {},
   "outputs": [],
   "source": [
    "problem = pulp.LpProblem('Problem', pulp.LpMaximize)"
   ]
  },
  {
   "cell_type": "code",
   "execution_count": null,
   "id": "d1e0d820",
   "metadata": {},
   "outputs": [],
   "source": [
    "x = pulp.LpVariable.dicts('x', [(row, col) for row in nums for col in nums], lowBound = 0, upBound = 9, cat = 'Integer') # declare decision variables\n",
    "problem += (pulp.lpSum([x[(row, col)] for row in nums for col in nums])) # declare objective function"
   ]
  },
  {
   "cell_type": "code",
   "execution_count": null,
   "id": "ccf5cdf9",
   "metadata": {},
   "outputs": [],
   "source": [
    "line = [\"div2\", \"div3\", \"div4\", \"div5\", \"div6_2\", \"div6_3\", \"div7\", \"div8\", \"div9\"]\n",
    "max = [4, 14, 24, 1, 4, 14, 99999//7, 124, 5]"
   ]
  },
  {
   "cell_type": "code",
   "execution_count": null,
   "id": "ef408f4b",
   "metadata": {},
   "outputs": [],
   "source": [
    "for index in range(len(line)):\n",
    "    vars()[line[index]] = pulp.LpVariable(line[index], lowBound = 0, upBound = max[index], cat = 'Integer')"
   ]
  },
  {
   "cell_type": "markdown",
   "id": "4b8bba67",
   "metadata": {},
   "source": [
    "$ \n",
    "\\begin{align}\n",
    "0 \\equiv {10000 * x_{1,1} + 1000 * x_{1,2} + 100 * x_{1,3} + 10 * x_{1,4} + 1 * x_{1,5}} \\mod 1 \n",
    "\\end{align}\n",
    "$\n",
    "\n",
    "$\n",
    "\\begin{align}\n",
    "\\implies True \n",
    "\\end{align}\n",
    "$"
   ]
  },
  {
   "cell_type": "code",
   "execution_count": null,
   "id": "d0e94330",
   "metadata": {},
   "outputs": [],
   "source": [
    "# No constraint needed for row 1"
   ]
  },
  {
   "cell_type": "markdown",
   "id": "e3e519a6",
   "metadata": {},
   "source": [
    "$$0 \\equiv {10000 * x_{2,1} + 1000 * x_{2,2} + 100 * x_{2,3} + 10 * x_{2,4} + 1 * x_{2,5}} \\mod 2$$\n",
    "$$\\implies 0 \\equiv x_{2,5} \\mod 2$$"
   ]
  },
  {
   "cell_type": "code",
   "execution_count": null,
   "id": "1706ea2d",
   "metadata": {},
   "outputs": [],
   "source": [
    "problem += x[(2, 5)] - 2 * div2 == 0 "
   ]
  },
  {
   "cell_type": "markdown",
   "id": "0da08b97",
   "metadata": {},
   "source": [
    "$$0 \\equiv {10000 * x_{3,1} + 1000 * x_{3,2} + 100 * x_{3,3} + 10 * x_{3,4} + 1 * x_{3,5}} \\mod 3$$\n",
    "$$\\implies 0 \\equiv {x_{3,1} + x_{3,2} + x_{3,3} + x_{3,4} + x_{3,5}} \\mod 3$$"
   ]
  },
  {
   "cell_type": "code",
   "execution_count": null,
   "id": "a6d2119e",
   "metadata": {},
   "outputs": [],
   "source": [
    "problem += pulp.lpSum([x[(3, col)] for col in nums]) - 3 * div3 == 0"
   ]
  },
  {
   "cell_type": "markdown",
   "id": "4133cb3a",
   "metadata": {},
   "source": [
    "$$0 \\equiv {10000 * x_{4,1} + 1000 * x_{4,2} + 100 * x_{4,3} + 10 * x_{4,4} + 1 * x_{4,5}} \\mod 4$$\n",
    "$$ \\implies 0 \\equiv {100 * x_{4,3} + 10 * x_{4,4} + 1 * x_{4,5}} \\mod 4$$"
   ]
  },
  {
   "cell_type": "code",
   "execution_count": null,
   "id": "c134de79",
   "metadata": {},
   "outputs": [],
   "source": [
    "problem += pulp.lpSum([10 ** (5 - col) * x[(4, col)] for col in range(4, 6)]) - 4 * div4 == 0 #Row 4 Constraints"
   ]
  },
  {
   "cell_type": "markdown",
   "id": "9583e930",
   "metadata": {},
   "source": [
    "$$ 0 \\equiv {10000 * x_{5,1} + 1000 * x_{5,2} + 100 * x_{5,3} + 10 * x_{5,4} + 1 * x_{5,5}} \\mod 5$$\n",
    "$$ \\implies 0 \\equiv x_{5,5} \\mod 5$$"
   ]
  },
  {
   "cell_type": "code",
   "execution_count": null,
   "id": "9913efce",
   "metadata": {},
   "outputs": [],
   "source": [
    "problem += x[(5, 5)] - 5 * div5 == 0"
   ]
  },
  {
   "cell_type": "markdown",
   "id": "c8cd8172",
   "metadata": {},
   "source": [
    "$$ 0 \\equiv {10000 * x_{5,1} + 1000 * x_{5,2} + 100 * x_{5,3} + 10 * x_{5,4} + 1 * x_{5,5}} \\mod 5$$"
   ]
  },
  {
   "cell_type": "code",
   "execution_count": null,
   "id": "9789b2e4",
   "metadata": {},
   "outputs": [],
   "source": []
  },
  {
   "cell_type": "code",
   "execution_count": null,
   "id": "98694ec1",
   "metadata": {},
   "outputs": [],
   "source": [
    "problem += x[(5, 1)] - 2 * div6_2 == 0 #Column 1 Constraints\n",
    "problem += pulp.lpSum([x[(row, 1)] for row in nums]) - 3 * div6_3 == 0\n",
    "problem += pulp.lpSum([10 ** (5 - row) * x[(row, 2)] for row in nums]) - 7 * div7 == 0 #Column 2 Constraints\n",
    "problem += pulp.lpSum([10 ** (5 - row) * x[(row, 3)] for row in range(3, 6)]) - 8 * div8 == 0 #Column 3 Constraints\n",
    "problem += pulp.lpSum([x[(row, 4)] for row in nums]) - 9 * div9 == 0 #Column 4 Constraints\n",
    "problem += x[(5, 5)] == 0 #Column 5 Constraints\n"
   ]
  },
  {
   "cell_type": "code",
   "execution_count": null,
   "id": "0f759cd5",
   "metadata": {},
   "outputs": [],
   "source": [
    "#Solve LP\n",
    "problem.solve()\n",
    "solution = [[0 for i in range(5)] for j in range(5)]"
   ]
  },
  {
   "cell_type": "code",
   "execution_count": null,
   "id": "c282a496",
   "metadata": {},
   "outputs": [],
   "source": [
    "for row in nums:\n",
    "    for col in nums:\n",
    "        solution[row - 1][col - 1] = int(x[(row, col)].varValue)\n",
    "\n",
    "for i in range(5):\n",
    "    print(solution[i])"
   ]
  }
 ],
 "metadata": {
  "kernelspec": {
   "display_name": "Python 3 (ipykernel)",
   "language": "python",
   "name": "python3"
  },
  "language_info": {
   "codemirror_mode": {
    "name": "ipython",
    "version": 3
   },
   "file_extension": ".py",
   "mimetype": "text/x-python",
   "name": "python",
   "nbconvert_exporter": "python",
   "pygments_lexer": "ipython3",
   "version": "3.9.7"
  }
 },
 "nbformat": 4,
 "nbformat_minor": 5
}
